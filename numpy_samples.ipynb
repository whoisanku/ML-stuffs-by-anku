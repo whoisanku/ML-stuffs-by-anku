{
 "cells": [
  {
   "cell_type": "code",
   "execution_count": null,
   "id": "5b7e38a3-4c89-4808-924a-594d40598b9e",
   "metadata": {},
   "outputs": [],
   "source": [
    "import numpy as np"
   ]
  },
  {
   "cell_type": "code",
   "execution_count": null,
   "id": "bbe25a7f-ebde-43da-a87d-5148f4dbeff2",
   "metadata": {
    "scrolled": true
   },
   "outputs": [],
   "source": [
    "#vector indexing operations on 1-D vectors\n",
    "a = np.arange(10)\n",
    "print(a)"
   ]
  },
  {
   "cell_type": "code",
   "execution_count": null,
   "id": "1d86757b-25bc-4125-a0d4-334e2d7e731d",
   "metadata": {},
   "outputs": [],
   "source": [
    "#access an element\n",
    "print(f\"a[2].shape: {a[2].shape} a[2] = {a[2]}, Accessing an element returns a scaler\")\n",
    "\n",
    "#access the last element, negative indexes count from the end\n",
    "print(f\"a[-1] = {a[-1]}\")\n",
    "\n",
    "#indexes must be within the range of the vector or they will produce an error\n",
    "try:\n",
    "    c = a[10]\n",
    "except Exception as e:\n",
    "    print(\"The error message you'll see is:\")\n",
    "    print(e)"
   ]
  },
  {
   "cell_type": "markdown",
   "id": "ab77d170",
   "metadata": {},
   "source": [
    "Vector Slicing Operations"
   ]
  },
  {
   "cell_type": "code",
   "execution_count": null,
   "id": "af317bcd",
   "metadata": {},
   "outputs": [],
   "source": [
    "#vector slicing operations\n",
    "#access 5 consecutive elements (start: stop: step)\n",
    "c = a[2:7:1]\n",
    "print(\"a[2:7:1] = \", c)\n",
    "#access all elements index 3 and above\n",
    "c = a[3:]\n",
    "print(\"a[3:] = \", c)\n",
    "#access all elements below index 3\n",
    "c = a[:3]\n",
    "print(\"a[:3] = \", c)\n",
    "#access all elements\n",
    "c = a[:]\n",
    "print(\"a[:] = \", c)\n"
   ]
  },
  {
   "cell_type": "markdown",
   "id": "36ea0295",
   "metadata": {},
   "source": [
    "Single Vector Operations"
   ]
  },
  {
   "cell_type": "code",
   "execution_count": null,
   "id": "af7a1dc1",
   "metadata": {},
   "outputs": [],
   "source": [
    "a = np.array([1, 2, 3, 4])\n",
    "print(f\"a: {a}\")\n",
    "#negate elements of a\n",
    "b = -a\n",
    "print(f\"b=-a: {b}\")\n",
    "#sum of all elements of a, returns a scaler\n",
    "b = np.sum(a)\n",
    "print(f\"sum(a): {b}\")\n",
    "#average of all elements of a, returns a scaler\n",
    "b = np.mean(a)\n",
    "print(f\"mean(a): {b}\")\n",
    "#also some mathematical operations\n",
    "b = a**2\n",
    "print(f\"a**2: {b}\")"
   ]
  },
  {
   "cell_type": "markdown",
   "id": "c4120270",
   "metadata": {},
   "source": [
    "Vector vector element wise operations"
   ]
  },
  {
   "cell_type": "code",
   "execution_count": null,
   "id": "d4f58583",
   "metadata": {},
   "outputs": [],
   "source": [
    "a = np.array([1,2,3,4])\n",
    "b = np.array([-1,-2,3,4])\n",
    "print(f\"Binary operators work element-wise: {a+b}\")\n",
    "\n",
    "#try a mismatched vector operation\n",
    "c = np.array([1,2])\n",
    "try:\n",
    "    d = a+c\n",
    "except Exception as e:\n",
    "    print(\"The error message you'll see is:\")\n",
    "    print(e)"
   ]
  },
  {
   "cell_type": "markdown",
   "id": "efeb09b0",
   "metadata": {},
   "source": [
    "Vector scalar operatoins"
   ]
  },
  {
   "cell_type": "code",
   "execution_count": null,
   "id": "73d35e12",
   "metadata": {},
   "outputs": [],
   "source": [
    "a = np.array([1,2,3,4])\n",
    "#multiply a by a scalar\n",
    "b = a*5\n",
    "print(f\"a*1.5: {b}\")"
   ]
  },
  {
   "cell_type": "markdown",
   "id": "36eace90",
   "metadata": {},
   "source": [
    "Vector vector dot product"
   ]
  },
  {
   "cell_type": "code",
   "execution_count": null,
   "id": "5f313c22",
   "metadata": {},
   "outputs": [],
   "source": [
    "def my_dot(a, b):\n",
    "    \"\"\"Compute the dot product of two vectors\n",
    "    Args:\n",
    "    a (ndarray(n,)):input vector\n",
    "    b(ndarray(n,)):input vector with same dimension as a\n",
    "    Returns\n",
    "    x(scalar)\"\"\"\n",
    "    x = 0\n",
    "    for i in range(a.shape[0]):\n",
    "        x += a[i]*b[i]\n",
    "    return x\n",
    "a = np.array([1,2,3])\n",
    "b = np.array([4,5,6])\n",
    "print(f\"a.b: {my_dot(a,b)}\")\n"
   ]
  },
  {
   "cell_type": "markdown",
   "id": "d7dc1fb0",
   "metadata": {},
   "source": [
    "Same dot product by using Vectorizatoin (np.dot)"
   ]
  },
  {
   "cell_type": "code",
   "execution_count": null,
   "id": "72135594",
   "metadata": {},
   "outputs": [],
   "source": [
    "#test 1-D\n",
    "a = np.array([1,2,3])\n",
    "b = np.array([4,5,6])\n",
    "c = np.dot(a,b)\n",
    "print(f\"Numpy 1-D np.dot (a,b)= {c}, np.dot(a,b).shape: {np.dot(a,b).shape}\")\n",
    "c = np.dot(b,a)\n",
    "print(f\"Numpy 1-D np.dot (b,a)= {c}, np.dot(b,a).shape: {np.dot(b,a).shape}\")"
   ]
  },
  {
   "cell_type": "markdown",
   "id": "ac868d4c",
   "metadata": {},
   "source": [
    "Matrix Creation"
   ]
  },
  {
   "cell_type": "code",
   "execution_count": null,
   "id": "ea22aad6",
   "metadata": {},
   "outputs": [],
   "source": [
    "a = np.zeros((1, 5))                                       \n",
    "print(f\"a shape = {a.shape}, a = {a}\")                     \n",
    "\n",
    "a = np.zeros((2, 1))                                                                   \n",
    "print(f\"a shape = {a.shape}, a = {a}\") \n",
    "\n",
    "a = np.random.random_sample((1, 1))  \n",
    "print(f\"a shape = {a.shape}, a = {a}\") "
   ]
  }
 ],
 "metadata": {
  "kernelspec": {
   "display_name": "Python 3 (ipykernel)",
   "language": "python",
   "name": "python3"
  },
  "language_info": {
   "codemirror_mode": {
    "name": "ipython",
    "version": 3
   },
   "file_extension": ".py",
   "mimetype": "text/x-python",
   "name": "python",
   "nbconvert_exporter": "python",
   "pygments_lexer": "ipython3",
   "version": "3.11.6"
  }
 },
 "nbformat": 4,
 "nbformat_minor": 5
}
